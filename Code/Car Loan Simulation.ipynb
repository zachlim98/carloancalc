{
 "cells": [
  {
   "cell_type": "code",
   "execution_count": 220,
   "metadata": {},
   "outputs": [],
   "source": [
    "import pandas as pd\n",
    "import matplotlib.pyplot as plt\n",
    "import plotly.express as px \n",
    "import scipy\n",
    "import numpy as np\n",
    "import plotly.io as pio"
   ]
  },
  {
   "cell_type": "code",
   "execution_count": 312,
   "metadata": {},
   "outputs": [],
   "source": [
    "car_price = 69000\n",
    "start_cap = 140000\n",
    "maintenance_monthly = 500*12*10"
   ]
  },
  {
   "cell_type": "code",
   "execution_count": 313,
   "metadata": {},
   "outputs": [],
   "source": [
    "downpayment_list = [i for i in range(int(car_price*0.3),car_price,2000)]\n",
    "final_cost_1 = [(0.0298*1*(car_price - downpayment_list[i])+(car_price - downpayment_list[i])) for i in range(0,len(downpayment_list))]"
   ]
  },
  {
   "cell_type": "code",
   "execution_count": 314,
   "metadata": {},
   "outputs": [],
   "source": [
    "car_loan_df = pd.DataFrame({\"Downpayment\" : downpayment_list\n",
    "                            })"
   ]
  },
  {
   "cell_type": "code",
   "execution_count": 315,
   "metadata": {},
   "outputs": [],
   "source": [
    "for z in range(1,8):\n",
    "    car_loan_df[\"{} Year\".format(z)] = [((0.0298*z*(car_price - downpayment_list[i])+(car_price - downpayment_list[i])))+downpayment_list[i]+maintenance_monthly for i in range(0,len(downpayment_list))]"
   ]
  },
  {
   "cell_type": "code",
   "execution_count": 316,
   "metadata": {},
   "outputs": [],
   "source": [
    "car_melt = pd.melt(car_loan_df, id_vars=\"Downpayment\")"
   ]
  },
  {
   "cell_type": "code",
   "execution_count": 317,
   "metadata": {},
   "outputs": [
    {
     "output_type": "display_data",
     "data": {
      "application/vnd.plotly.v1+json": {
       "config": {
        "plotlyServerURL": "https://plot.ly"
       },
       "data": [
        {
         "hovertemplate": "Loan Term=1 Year<br>Initial Downpayment=%{x}<br>Total Cost of Car=%{y}<extra></extra>",
         "legendgroup": "1 Year",
         "line": {
          "color": "#636efa",
          "dash": "solid"
         },
         "mode": "lines",
         "name": "1 Year",
         "orientation": "v",
         "showlegend": true,
         "type": "scatter",
         "x": [
          20700,
          22700,
          24700,
          26700,
          28700,
          30700,
          32700,
          34700,
          36700,
          38700,
          40700,
          42700,
          44700,
          46700,
          48700,
          50700,
          52700,
          54700,
          56700,
          58700,
          60700,
          62700,
          64700,
          66700,
          68700
         ],
         "xaxis": "x",
         "y": [
          130439.34,
          130379.73999999999,
          130320.14,
          130260.54000000001,
          130200.94,
          130141.34,
          130081.73999999999,
          130022.14,
          129962.54000000001,
          129902.94,
          129843.34,
          129783.74,
          129724.14,
          129664.54000000001,
          129604.94,
          129545.34,
          129485.74,
          129426.14,
          129366.54000000001,
          129306.94,
          129247.34,
          129187.74,
          129128.14,
          129068.54,
          129008.94
         ],
         "yaxis": "y"
        },
        {
         "hovertemplate": "Loan Term=2 Year<br>Initial Downpayment=%{x}<br>Total Cost of Car=%{y}<extra></extra>",
         "legendgroup": "2 Year",
         "line": {
          "color": "#EF553B",
          "dash": "solid"
         },
         "mode": "lines",
         "name": "2 Year",
         "orientation": "v",
         "showlegend": true,
         "type": "scatter",
         "x": [
          20700,
          22700,
          24700,
          26700,
          28700,
          30700,
          32700,
          34700,
          36700,
          38700,
          40700,
          42700,
          44700,
          46700,
          48700,
          50700,
          52700,
          54700,
          56700,
          58700,
          60700,
          62700,
          64700,
          66700,
          68700
         ],
         "xaxis": "x",
         "y": [
          131878.68,
          131759.48,
          131640.28,
          131521.08000000002,
          131401.88,
          131282.68,
          131163.48,
          131044.28,
          130925.08,
          130805.88,
          130686.68,
          130567.48,
          130448.28,
          130329.08,
          130209.88,
          130090.68,
          129971.48,
          129852.28,
          129733.08,
          129613.88,
          129494.68,
          129375.48,
          129256.28,
          129137.08,
          129017.88
         ],
         "yaxis": "y"
        },
        {
         "hovertemplate": "Loan Term=3 Year<br>Initial Downpayment=%{x}<br>Total Cost of Car=%{y}<extra></extra>",
         "legendgroup": "3 Year",
         "line": {
          "color": "#00cc96",
          "dash": "solid"
         },
         "mode": "lines",
         "name": "3 Year",
         "orientation": "v",
         "showlegend": true,
         "type": "scatter",
         "x": [
          20700,
          22700,
          24700,
          26700,
          28700,
          30700,
          32700,
          34700,
          36700,
          38700,
          40700,
          42700,
          44700,
          46700,
          48700,
          50700,
          52700,
          54700,
          56700,
          58700,
          60700,
          62700,
          64700,
          66700,
          68700
         ],
         "xaxis": "x",
         "y": [
          133318.02000000002,
          133139.22,
          132960.41999999998,
          132781.62,
          132602.82,
          132424.02000000002,
          132245.22,
          132066.41999999998,
          131887.62,
          131708.82,
          131530.02000000002,
          131351.22,
          131172.41999999998,
          130993.62,
          130814.82,
          130636.02,
          130457.22,
          130278.42,
          130099.62,
          129920.82,
          129742.02,
          129563.22,
          129384.42,
          129205.62,
          129026.82
         ],
         "yaxis": "y"
        },
        {
         "hovertemplate": "Loan Term=4 Year<br>Initial Downpayment=%{x}<br>Total Cost of Car=%{y}<extra></extra>",
         "legendgroup": "4 Year",
         "line": {
          "color": "#ab63fa",
          "dash": "solid"
         },
         "mode": "lines",
         "name": "4 Year",
         "orientation": "v",
         "showlegend": true,
         "type": "scatter",
         "x": [
          20700,
          22700,
          24700,
          26700,
          28700,
          30700,
          32700,
          34700,
          36700,
          38700,
          40700,
          42700,
          44700,
          46700,
          48700,
          50700,
          52700,
          54700,
          56700,
          58700,
          60700,
          62700,
          64700,
          66700,
          68700
         ],
         "xaxis": "x",
         "y": [
          134757.36,
          134518.96,
          134280.56,
          134042.16,
          133803.76,
          133565.36,
          133326.96,
          133088.56,
          132850.16,
          132611.76,
          132373.36,
          132134.96,
          131896.56,
          131658.16,
          131419.76,
          131181.36,
          130942.95999999999,
          130704.56,
          130466.16,
          130227.76,
          129989.36,
          129750.96,
          129512.56,
          129274.16,
          129035.76
         ],
         "yaxis": "y"
        },
        {
         "hovertemplate": "Loan Term=5 Year<br>Initial Downpayment=%{x}<br>Total Cost of Car=%{y}<extra></extra>",
         "legendgroup": "5 Year",
         "line": {
          "color": "#FFA15A",
          "dash": "solid"
         },
         "mode": "lines",
         "name": "5 Year",
         "orientation": "v",
         "showlegend": true,
         "type": "scatter",
         "x": [
          20700,
          22700,
          24700,
          26700,
          28700,
          30700,
          32700,
          34700,
          36700,
          38700,
          40700,
          42700,
          44700,
          46700,
          48700,
          50700,
          52700,
          54700,
          56700,
          58700,
          60700,
          62700,
          64700,
          66700,
          68700
         ],
         "xaxis": "x",
         "y": [
          136196.7,
          135898.7,
          135600.7,
          135302.7,
          135004.7,
          134706.7,
          134408.7,
          134110.7,
          133812.7,
          133514.7,
          133216.7,
          132918.7,
          132620.7,
          132322.7,
          132024.7,
          131726.7,
          131428.7,
          131130.7,
          130832.7,
          130534.7,
          130236.7,
          129938.7,
          129640.7,
          129342.7,
          129044.7
         ],
         "yaxis": "y"
        },
        {
         "hovertemplate": "Loan Term=6 Year<br>Initial Downpayment=%{x}<br>Total Cost of Car=%{y}<extra></extra>",
         "legendgroup": "6 Year",
         "line": {
          "color": "#19d3f3",
          "dash": "solid"
         },
         "mode": "lines",
         "name": "6 Year",
         "orientation": "v",
         "showlegend": true,
         "type": "scatter",
         "x": [
          20700,
          22700,
          24700,
          26700,
          28700,
          30700,
          32700,
          34700,
          36700,
          38700,
          40700,
          42700,
          44700,
          46700,
          48700,
          50700,
          52700,
          54700,
          56700,
          58700,
          60700,
          62700,
          64700,
          66700,
          68700
         ],
         "xaxis": "x",
         "y": [
          137636.04,
          137278.44,
          136920.84,
          136563.24,
          136205.64,
          135848.04,
          135490.44,
          135132.84,
          134775.24,
          134417.64,
          134060.04,
          133702.44,
          133344.84,
          132987.24,
          132629.64,
          132272.04,
          131914.44,
          131556.84,
          131199.24,
          130841.64,
          130484.04000000001,
          130126.44,
          129768.84,
          129411.24,
          129053.64
         ],
         "yaxis": "y"
        },
        {
         "hovertemplate": "Loan Term=7 Year<br>Initial Downpayment=%{x}<br>Total Cost of Car=%{y}<extra></extra>",
         "legendgroup": "7 Year",
         "line": {
          "color": "#FF6692",
          "dash": "solid"
         },
         "mode": "lines",
         "name": "7 Year",
         "orientation": "v",
         "showlegend": true,
         "type": "scatter",
         "x": [
          20700,
          22700,
          24700,
          26700,
          28700,
          30700,
          32700,
          34700,
          36700,
          38700,
          40700,
          42700,
          44700,
          46700,
          48700,
          50700,
          52700,
          54700,
          56700,
          58700,
          60700,
          62700,
          64700,
          66700,
          68700
         ],
         "xaxis": "x",
         "y": [
          139075.38,
          138658.18,
          138240.97999999998,
          137823.78,
          137406.58000000002,
          136989.38,
          136572.18,
          136154.98,
          135737.78,
          135320.58000000002,
          134903.38,
          134486.18,
          134068.97999999998,
          133651.78,
          133234.58000000002,
          132817.38,
          132400.18,
          131982.97999999998,
          131565.78,
          131148.58000000002,
          130731.38,
          130314.18,
          129896.98,
          129479.78,
          129062.58
         ],
         "yaxis": "y"
        }
       ],
       "layout": {
        "legend": {
         "title": {
          "text": "Loan Term"
         },
         "tracegroupgap": 0
        },
        "template": {
         "data": {
          "bar": [
           {
            "error_x": {
             "color": "#2a3f5f"
            },
            "error_y": {
             "color": "#2a3f5f"
            },
            "marker": {
             "line": {
              "color": "#E5ECF6",
              "width": 0.5
             }
            },
            "type": "bar"
           }
          ],
          "barpolar": [
           {
            "marker": {
             "line": {
              "color": "#E5ECF6",
              "width": 0.5
             }
            },
            "type": "barpolar"
           }
          ],
          "carpet": [
           {
            "aaxis": {
             "endlinecolor": "#2a3f5f",
             "gridcolor": "white",
             "linecolor": "white",
             "minorgridcolor": "white",
             "startlinecolor": "#2a3f5f"
            },
            "baxis": {
             "endlinecolor": "#2a3f5f",
             "gridcolor": "white",
             "linecolor": "white",
             "minorgridcolor": "white",
             "startlinecolor": "#2a3f5f"
            },
            "type": "carpet"
           }
          ],
          "choropleth": [
           {
            "colorbar": {
             "outlinewidth": 0,
             "ticks": ""
            },
            "type": "choropleth"
           }
          ],
          "contour": [
           {
            "colorbar": {
             "outlinewidth": 0,
             "ticks": ""
            },
            "colorscale": [
             [
              0,
              "#0d0887"
             ],
             [
              0.1111111111111111,
              "#46039f"
             ],
             [
              0.2222222222222222,
              "#7201a8"
             ],
             [
              0.3333333333333333,
              "#9c179e"
             ],
             [
              0.4444444444444444,
              "#bd3786"
             ],
             [
              0.5555555555555556,
              "#d8576b"
             ],
             [
              0.6666666666666666,
              "#ed7953"
             ],
             [
              0.7777777777777778,
              "#fb9f3a"
             ],
             [
              0.8888888888888888,
              "#fdca26"
             ],
             [
              1,
              "#f0f921"
             ]
            ],
            "type": "contour"
           }
          ],
          "contourcarpet": [
           {
            "colorbar": {
             "outlinewidth": 0,
             "ticks": ""
            },
            "type": "contourcarpet"
           }
          ],
          "heatmap": [
           {
            "colorbar": {
             "outlinewidth": 0,
             "ticks": ""
            },
            "colorscale": [
             [
              0,
              "#0d0887"
             ],
             [
              0.1111111111111111,
              "#46039f"
             ],
             [
              0.2222222222222222,
              "#7201a8"
             ],
             [
              0.3333333333333333,
              "#9c179e"
             ],
             [
              0.4444444444444444,
              "#bd3786"
             ],
             [
              0.5555555555555556,
              "#d8576b"
             ],
             [
              0.6666666666666666,
              "#ed7953"
             ],
             [
              0.7777777777777778,
              "#fb9f3a"
             ],
             [
              0.8888888888888888,
              "#fdca26"
             ],
             [
              1,
              "#f0f921"
             ]
            ],
            "type": "heatmap"
           }
          ],
          "heatmapgl": [
           {
            "colorbar": {
             "outlinewidth": 0,
             "ticks": ""
            },
            "colorscale": [
             [
              0,
              "#0d0887"
             ],
             [
              0.1111111111111111,
              "#46039f"
             ],
             [
              0.2222222222222222,
              "#7201a8"
             ],
             [
              0.3333333333333333,
              "#9c179e"
             ],
             [
              0.4444444444444444,
              "#bd3786"
             ],
             [
              0.5555555555555556,
              "#d8576b"
             ],
             [
              0.6666666666666666,
              "#ed7953"
             ],
             [
              0.7777777777777778,
              "#fb9f3a"
             ],
             [
              0.8888888888888888,
              "#fdca26"
             ],
             [
              1,
              "#f0f921"
             ]
            ],
            "type": "heatmapgl"
           }
          ],
          "histogram": [
           {
            "marker": {
             "colorbar": {
              "outlinewidth": 0,
              "ticks": ""
             }
            },
            "type": "histogram"
           }
          ],
          "histogram2d": [
           {
            "colorbar": {
             "outlinewidth": 0,
             "ticks": ""
            },
            "colorscale": [
             [
              0,
              "#0d0887"
             ],
             [
              0.1111111111111111,
              "#46039f"
             ],
             [
              0.2222222222222222,
              "#7201a8"
             ],
             [
              0.3333333333333333,
              "#9c179e"
             ],
             [
              0.4444444444444444,
              "#bd3786"
             ],
             [
              0.5555555555555556,
              "#d8576b"
             ],
             [
              0.6666666666666666,
              "#ed7953"
             ],
             [
              0.7777777777777778,
              "#fb9f3a"
             ],
             [
              0.8888888888888888,
              "#fdca26"
             ],
             [
              1,
              "#f0f921"
             ]
            ],
            "type": "histogram2d"
           }
          ],
          "histogram2dcontour": [
           {
            "colorbar": {
             "outlinewidth": 0,
             "ticks": ""
            },
            "colorscale": [
             [
              0,
              "#0d0887"
             ],
             [
              0.1111111111111111,
              "#46039f"
             ],
             [
              0.2222222222222222,
              "#7201a8"
             ],
             [
              0.3333333333333333,
              "#9c179e"
             ],
             [
              0.4444444444444444,
              "#bd3786"
             ],
             [
              0.5555555555555556,
              "#d8576b"
             ],
             [
              0.6666666666666666,
              "#ed7953"
             ],
             [
              0.7777777777777778,
              "#fb9f3a"
             ],
             [
              0.8888888888888888,
              "#fdca26"
             ],
             [
              1,
              "#f0f921"
             ]
            ],
            "type": "histogram2dcontour"
           }
          ],
          "mesh3d": [
           {
            "colorbar": {
             "outlinewidth": 0,
             "ticks": ""
            },
            "type": "mesh3d"
           }
          ],
          "parcoords": [
           {
            "line": {
             "colorbar": {
              "outlinewidth": 0,
              "ticks": ""
             }
            },
            "type": "parcoords"
           }
          ],
          "pie": [
           {
            "automargin": true,
            "type": "pie"
           }
          ],
          "scatter": [
           {
            "marker": {
             "colorbar": {
              "outlinewidth": 0,
              "ticks": ""
             }
            },
            "type": "scatter"
           }
          ],
          "scatter3d": [
           {
            "line": {
             "colorbar": {
              "outlinewidth": 0,
              "ticks": ""
             }
            },
            "marker": {
             "colorbar": {
              "outlinewidth": 0,
              "ticks": ""
             }
            },
            "type": "scatter3d"
           }
          ],
          "scattercarpet": [
           {
            "marker": {
             "colorbar": {
              "outlinewidth": 0,
              "ticks": ""
             }
            },
            "type": "scattercarpet"
           }
          ],
          "scattergeo": [
           {
            "marker": {
             "colorbar": {
              "outlinewidth": 0,
              "ticks": ""
             }
            },
            "type": "scattergeo"
           }
          ],
          "scattergl": [
           {
            "marker": {
             "colorbar": {
              "outlinewidth": 0,
              "ticks": ""
             }
            },
            "type": "scattergl"
           }
          ],
          "scattermapbox": [
           {
            "marker": {
             "colorbar": {
              "outlinewidth": 0,
              "ticks": ""
             }
            },
            "type": "scattermapbox"
           }
          ],
          "scatterpolar": [
           {
            "marker": {
             "colorbar": {
              "outlinewidth": 0,
              "ticks": ""
             }
            },
            "type": "scatterpolar"
           }
          ],
          "scatterpolargl": [
           {
            "marker": {
             "colorbar": {
              "outlinewidth": 0,
              "ticks": ""
             }
            },
            "type": "scatterpolargl"
           }
          ],
          "scatterternary": [
           {
            "marker": {
             "colorbar": {
              "outlinewidth": 0,
              "ticks": ""
             }
            },
            "type": "scatterternary"
           }
          ],
          "surface": [
           {
            "colorbar": {
             "outlinewidth": 0,
             "ticks": ""
            },
            "colorscale": [
             [
              0,
              "#0d0887"
             ],
             [
              0.1111111111111111,
              "#46039f"
             ],
             [
              0.2222222222222222,
              "#7201a8"
             ],
             [
              0.3333333333333333,
              "#9c179e"
             ],
             [
              0.4444444444444444,
              "#bd3786"
             ],
             [
              0.5555555555555556,
              "#d8576b"
             ],
             [
              0.6666666666666666,
              "#ed7953"
             ],
             [
              0.7777777777777778,
              "#fb9f3a"
             ],
             [
              0.8888888888888888,
              "#fdca26"
             ],
             [
              1,
              "#f0f921"
             ]
            ],
            "type": "surface"
           }
          ],
          "table": [
           {
            "cells": {
             "fill": {
              "color": "#EBF0F8"
             },
             "line": {
              "color": "white"
             }
            },
            "header": {
             "fill": {
              "color": "#C8D4E3"
             },
             "line": {
              "color": "white"
             }
            },
            "type": "table"
           }
          ]
         },
         "layout": {
          "annotationdefaults": {
           "arrowcolor": "#2a3f5f",
           "arrowhead": 0,
           "arrowwidth": 1
          },
          "coloraxis": {
           "colorbar": {
            "outlinewidth": 0,
            "ticks": ""
           }
          },
          "colorscale": {
           "diverging": [
            [
             0,
             "#8e0152"
            ],
            [
             0.1,
             "#c51b7d"
            ],
            [
             0.2,
             "#de77ae"
            ],
            [
             0.3,
             "#f1b6da"
            ],
            [
             0.4,
             "#fde0ef"
            ],
            [
             0.5,
             "#f7f7f7"
            ],
            [
             0.6,
             "#e6f5d0"
            ],
            [
             0.7,
             "#b8e186"
            ],
            [
             0.8,
             "#7fbc41"
            ],
            [
             0.9,
             "#4d9221"
            ],
            [
             1,
             "#276419"
            ]
           ],
           "sequential": [
            [
             0,
             "#0d0887"
            ],
            [
             0.1111111111111111,
             "#46039f"
            ],
            [
             0.2222222222222222,
             "#7201a8"
            ],
            [
             0.3333333333333333,
             "#9c179e"
            ],
            [
             0.4444444444444444,
             "#bd3786"
            ],
            [
             0.5555555555555556,
             "#d8576b"
            ],
            [
             0.6666666666666666,
             "#ed7953"
            ],
            [
             0.7777777777777778,
             "#fb9f3a"
            ],
            [
             0.8888888888888888,
             "#fdca26"
            ],
            [
             1,
             "#f0f921"
            ]
           ],
           "sequentialminus": [
            [
             0,
             "#0d0887"
            ],
            [
             0.1111111111111111,
             "#46039f"
            ],
            [
             0.2222222222222222,
             "#7201a8"
            ],
            [
             0.3333333333333333,
             "#9c179e"
            ],
            [
             0.4444444444444444,
             "#bd3786"
            ],
            [
             0.5555555555555556,
             "#d8576b"
            ],
            [
             0.6666666666666666,
             "#ed7953"
            ],
            [
             0.7777777777777778,
             "#fb9f3a"
            ],
            [
             0.8888888888888888,
             "#fdca26"
            ],
            [
             1,
             "#f0f921"
            ]
           ]
          },
          "colorway": [
           "#636efa",
           "#EF553B",
           "#00cc96",
           "#ab63fa",
           "#FFA15A",
           "#19d3f3",
           "#FF6692",
           "#B6E880",
           "#FF97FF",
           "#FECB52"
          ],
          "font": {
           "color": "#2a3f5f"
          },
          "geo": {
           "bgcolor": "white",
           "lakecolor": "white",
           "landcolor": "#E5ECF6",
           "showlakes": true,
           "showland": true,
           "subunitcolor": "white"
          },
          "hoverlabel": {
           "align": "left"
          },
          "hovermode": "closest",
          "mapbox": {
           "style": "light"
          },
          "paper_bgcolor": "white",
          "plot_bgcolor": "#E5ECF6",
          "polar": {
           "angularaxis": {
            "gridcolor": "white",
            "linecolor": "white",
            "ticks": ""
           },
           "bgcolor": "#E5ECF6",
           "radialaxis": {
            "gridcolor": "white",
            "linecolor": "white",
            "ticks": ""
           }
          },
          "scene": {
           "xaxis": {
            "backgroundcolor": "#E5ECF6",
            "gridcolor": "white",
            "gridwidth": 2,
            "linecolor": "white",
            "showbackground": true,
            "ticks": "",
            "zerolinecolor": "white"
           },
           "yaxis": {
            "backgroundcolor": "#E5ECF6",
            "gridcolor": "white",
            "gridwidth": 2,
            "linecolor": "white",
            "showbackground": true,
            "ticks": "",
            "zerolinecolor": "white"
           },
           "zaxis": {
            "backgroundcolor": "#E5ECF6",
            "gridcolor": "white",
            "gridwidth": 2,
            "linecolor": "white",
            "showbackground": true,
            "ticks": "",
            "zerolinecolor": "white"
           }
          },
          "shapedefaults": {
           "line": {
            "color": "#2a3f5f"
           }
          },
          "ternary": {
           "aaxis": {
            "gridcolor": "white",
            "linecolor": "white",
            "ticks": ""
           },
           "baxis": {
            "gridcolor": "white",
            "linecolor": "white",
            "ticks": ""
           },
           "bgcolor": "#E5ECF6",
           "caxis": {
            "gridcolor": "white",
            "linecolor": "white",
            "ticks": ""
           }
          },
          "title": {
           "x": 0.05
          },
          "xaxis": {
           "automargin": true,
           "gridcolor": "white",
           "linecolor": "white",
           "ticks": "",
           "title": {
            "standoff": 15
           },
           "zerolinecolor": "white",
           "zerolinewidth": 2
          },
          "yaxis": {
           "automargin": true,
           "gridcolor": "white",
           "linecolor": "white",
           "ticks": "",
           "title": {
            "standoff": 15
           },
           "zerolinecolor": "white",
           "zerolinewidth": 2
          }
         }
        },
        "title": {
         "text": "True Cost of Car with Interest and Monthly Payment"
        },
        "xaxis": {
         "anchor": "y",
         "domain": [
          0,
          1
         ],
         "title": {
          "text": "Initial Downpayment"
         }
        },
        "yaxis": {
         "anchor": "x",
         "domain": [
          0,
          1
         ],
         "title": {
          "text": "Total Cost of Car"
         }
        }
       }
      }
     },
     "metadata": {}
    }
   ],
   "source": [
    "fig = px.line(car_melt,x=\"Downpayment\",y=\"value\",color=\"variable\",labels={\n",
    "                     \"Downpayment\": \"Initial Downpayment\",\n",
    "                     \"value\": \"Total Cost of Car\",\n",
    "                     \"variable\": \"Loan Term\"\n",
    "                 },title=\"True Cost of Car with Interest and Monthly Payment\")\n",
    "fig.show()"
   ]
  },
  {
   "cell_type": "code",
   "execution_count": 318,
   "metadata": {},
   "outputs": [],
   "source": [
    "def fv(monthly, interest_rate, time):\n",
    "    return (monthly * ((((1 + interest_rate)**time)-1)/(interest_rate)))\n",
    "\n",
    "def ifv(initial, monthly, interest_rate, time):\n",
    "    return ((initial*((1+interest_rate)**time)) + (monthly * ((((1 + interest_rate)**time)-1)/(interest_rate))))"
   ]
  },
  {
   "cell_type": "code",
   "execution_count": 319,
   "metadata": {},
   "outputs": [],
   "source": [
    "def car_tradeoff_calc(car_price,downpayment,years,bank_int,capital_invest,simir):\n",
    "    total_cost = ((bank_int*years*(car_price - downpayment)+(car_price - downpayment))) + downpayment + maintenance_monthly\n",
    "    pay_monthly = (total_cost - downpayment)/(years*12)\n",
    "    pre_invest_monthly = max(0,((capital_invest-downpayment)/(10*12)-pay_monthly))\n",
    "    pre_invest_total = fv(pre_invest_monthly, simir, years*12)\n",
    "    post_invest_monthly = ((capital_invest-((pay_monthly+ pre_invest_monthly)*years*12)-downpayment)/((10-years)*12))\n",
    "    post_invest_total = ifv(pre_invest_total,post_invest_monthly,simir,((10-years)*12))\n",
    "    total_returns = pre_invest_total + post_invest_total\n",
    "    return(post_invest_total)"
   ]
  },
  {
   "cell_type": "code",
   "execution_count": 320,
   "metadata": {},
   "outputs": [],
   "source": [
    "payoff_df = pd.DataFrame({\"Downpayment\" : downpayment_list\n",
    "                            })"
   ]
  },
  {
   "cell_type": "code",
   "execution_count": 321,
   "metadata": {},
   "outputs": [],
   "source": [
    "if (start_cap < car_loan_df.iloc[0,-1]):\n",
    "    print(\"Error: Starting capital not large enough\")\n",
    "else:\n",
    "    for z in range(1,8):\n",
    "        payoff_df[\"{} yr\".format(z)] = [car_tradeoff_calc(car_price,downpayment_list[i],z,0.0298,start_cap,0.007) for i in range(0,len(downpayment_list))]"
   ]
  },
  {
   "cell_type": "code",
   "execution_count": 322,
   "metadata": {},
   "outputs": [],
   "source": [
    "payoff_df_melt = pd.melt(payoff_df, id_vars=\"Downpayment\")"
   ]
  },
  {
   "cell_type": "code",
   "execution_count": 323,
   "metadata": {},
   "outputs": [
    {
     "output_type": "display_data",
     "data": {
      "application/vnd.plotly.v1+json": {
       "config": {
        "plotlyServerURL": "https://plot.ly"
       },
       "data": [
        {
         "hovertemplate": "Loan Term=1 yr<br>Initial Downpayment=%{x}<br>Return on Investment=%{y}<extra></extra>",
         "legendgroup": "1 yr",
         "line": {
          "color": "#636efa",
          "dash": "solid"
         },
         "mode": "lines",
         "name": "1 yr",
         "orientation": "v",
         "showlegend": true,
         "type": "scatter",
         "x": [
          20700,
          22700,
          24700,
          26700,
          28700,
          30700,
          32700,
          34700,
          36700,
          38700,
          40700,
          42700,
          44700,
          46700,
          48700,
          50700,
          52700,
          54700,
          56700,
          58700,
          60700,
          62700,
          64700,
          66700,
          68700
         ],
         "xaxis": "x",
         "y": [
          14216.277098174825,
          14304.899653003813,
          14393.52220783278,
          14482.144762661745,
          14570.767317490732,
          14659.389872319718,
          14748.012427148706,
          14836.63498197767,
          14925.257536806634,
          15013.880091635621,
          15102.502646464609,
          15191.125201293575,
          15279.747756122562,
          15368.370310951526,
          15456.992865780514,
          15545.615420609502,
          15634.237975438466,
          15722.860530267453,
          15811.483085096417,
          15900.105639925405,
          15988.728194754392,
          16077.350749583358,
          16165.973304412346,
          16254.59585924133,
          16343.218414070298
         ],
         "yaxis": "y"
        },
        {
         "hovertemplate": "Loan Term=2 yr<br>Initial Downpayment=%{x}<br>Return on Investment=%{y}<extra></extra>",
         "legendgroup": "2 yr",
         "line": {
          "color": "#EF553B",
          "dash": "solid"
         },
         "mode": "lines",
         "name": "2 yr",
         "orientation": "v",
         "showlegend": true,
         "type": "scatter",
         "x": [
          20700,
          22700,
          24700,
          26700,
          28700,
          30700,
          32700,
          34700,
          36700,
          38700,
          40700,
          42700,
          44700,
          46700,
          48700,
          50700,
          52700,
          54700,
          56700,
          58700,
          60700,
          62700,
          64700,
          66700,
          68700
         ],
         "xaxis": "x",
         "y": [
          11524.187891524312,
          11693.333202467546,
          11862.478513410819,
          12031.623824354052,
          12200.769135297327,
          12369.9144462406,
          12539.059757183832,
          12708.205068127107,
          12877.350379070362,
          13046.495690013615,
          13215.641000956888,
          13384.786311900141,
          13553.931622843396,
          13723.07693378665,
          13892.222244729901,
          14061.367555673176,
          14230.512866616431,
          14399.658177559684,
          14568.803488502936,
          14737.94879944619,
          14907.094110389466,
          15076.239421332717,
          15245.38473227597,
          15414.530043219225,
          15583.675354162478
         ],
         "yaxis": "y"
        },
        {
         "hovertemplate": "Loan Term=3 yr<br>Initial Downpayment=%{x}<br>Return on Investment=%{y}<extra></extra>",
         "legendgroup": "3 yr",
         "line": {
          "color": "#00cc96",
          "dash": "solid"
         },
         "mode": "lines",
         "name": "3 yr",
         "orientation": "v",
         "showlegend": true,
         "type": "scatter",
         "x": [
          20700,
          22700,
          24700,
          26700,
          28700,
          30700,
          32700,
          34700,
          36700,
          38700,
          40700,
          42700,
          44700,
          46700,
          48700,
          50700,
          52700,
          54700,
          56700,
          58700,
          60700,
          62700,
          64700,
          66700,
          68700
         ],
         "xaxis": "x",
         "y": [
          9053.626401897269,
          9295.888186676539,
          9538.149971455809,
          9780.411756235042,
          10022.673541014274,
          10264.935325793505,
          10507.197110572775,
          10749.458895352049,
          10991.720680131279,
          11233.98246491051,
          11476.244249689742,
          11718.506034469014,
          11960.767819248285,
          12203.029604027517,
          12445.291388806749,
          12687.55317358598,
          12929.81495836525,
          13172.076743144522,
          13414.338527923754,
          13656.600312702985,
          13898.862097482237,
          14141.123882261487,
          14383.385667040739,
          14625.647451819992,
          14867.909236599224
         ],
         "yaxis": "y"
        },
        {
         "hovertemplate": "Loan Term=4 yr<br>Initial Downpayment=%{x}<br>Return on Investment=%{y}<extra></extra>",
         "legendgroup": "4 yr",
         "line": {
          "color": "#ab63fa",
          "dash": "solid"
         },
         "mode": "lines",
         "name": "4 yr",
         "orientation": "v",
         "showlegend": true,
         "type": "scatter",
         "x": [
          20700,
          22700,
          24700,
          26700,
          28700,
          30700,
          32700,
          34700,
          36700,
          38700,
          40700,
          42700,
          44700,
          46700,
          48700,
          50700,
          52700,
          54700,
          56700,
          58700,
          60700,
          62700,
          64700,
          66700,
          68700
         ],
         "xaxis": "x",
         "y": [
          6786.571139704947,
          7095.1787419255115,
          7403.786344146075,
          7712.393946366639,
          8021.001548587203,
          8329.609150807804,
          8638.216753028368,
          8946.824355248931,
          9255.431957469495,
          9564.039559690058,
          9872.64716191066,
          10181.254764131223,
          10489.862366351786,
          10798.469968572352,
          11107.077570792915,
          11415.685173013517,
          11724.29277523408,
          12032.900377454642,
          12341.507979675207,
          12650.115581895789,
          12958.723184116354,
          13267.330786336915,
          13575.938388557499,
          13884.545990778062,
          14193.153592998646
         ],
         "yaxis": "y"
        },
        {
         "hovertemplate": "Loan Term=5 yr<br>Initial Downpayment=%{x}<br>Return on Investment=%{y}<extra></extra>",
         "legendgroup": "5 yr",
         "line": {
          "color": "#FFA15A",
          "dash": "solid"
         },
         "mode": "lines",
         "name": "5 yr",
         "orientation": "v",
         "showlegend": true,
         "type": "scatter",
         "x": [
          20700,
          22700,
          24700,
          26700,
          28700,
          30700,
          32700,
          34700,
          36700,
          38700,
          40700,
          42700,
          44700,
          46700,
          48700,
          50700,
          52700,
          54700,
          56700,
          58700,
          60700,
          62700,
          64700,
          66700,
          68700
         ],
         "xaxis": "x",
         "y": [
          4706.459569146537,
          5075.224839202981,
          5443.990109259406,
          5812.75537931585,
          6181.520649372313,
          6550.285919428757,
          6919.051189485199,
          7287.816459541625,
          7656.581729598087,
          8025.346999654531,
          8394.112269710975,
          8762.877539767418,
          9131.642809823863,
          9500.408079880304,
          9869.17334993675,
          10237.938619993194,
          10606.703890049637,
          10975.46916010608,
          11344.234430162542,
          11712.999700218987,
          12081.76497027543,
          12450.530240331855,
          12819.2955103883,
          13188.06078044476,
          13556.826050501186
         ],
         "yaxis": "y"
        },
        {
         "hovertemplate": "Loan Term=6 yr<br>Initial Downpayment=%{x}<br>Return on Investment=%{y}<extra></extra>",
         "legendgroup": "6 yr",
         "line": {
          "color": "#19d3f3",
          "dash": "solid"
         },
         "mode": "lines",
         "name": "6 yr",
         "orientation": "v",
         "showlegend": true,
         "type": "scatter",
         "x": [
          20700,
          22700,
          24700,
          26700,
          28700,
          30700,
          32700,
          34700,
          36700,
          38700,
          40700,
          42700,
          44700,
          46700,
          48700,
          50700,
          52700,
          54700,
          56700,
          58700,
          60700,
          62700,
          64700,
          66700,
          68700
         ],
         "xaxis": "x",
         "y": [
          2798.0702965792757,
          3221.3388536008706,
          3644.6074106224655,
          4067.8759676440595,
          4491.144524665637,
          4914.413081687231,
          5337.6816387088265,
          5760.950195730421,
          6184.218752751998,
          6607.487309773559,
          7030.7558667951525,
          7454.024423816748,
          7877.2929808383415,
          8300.561537859936,
          8723.830094881496,
          9147.098651903092,
          9570.367208924687,
          9993.635765946281,
          10416.904322967875,
          10840.172879989454,
          11263.44143701103,
          11686.709994032624,
          12109.978551054219,
          12533.247108075797,
          12956.515665097391
         ],
         "yaxis": "y"
        },
        {
         "hovertemplate": "Loan Term=7 yr<br>Initial Downpayment=%{x}<br>Return on Investment=%{y}<extra></extra>",
         "legendgroup": "7 yr",
         "line": {
          "color": "#FF6692",
          "dash": "solid"
         },
         "mode": "lines",
         "name": "7 yr",
         "orientation": "v",
         "showlegend": true,
         "type": "scatter",
         "x": [
          20700,
          22700,
          24700,
          26700,
          28700,
          30700,
          32700,
          34700,
          36700,
          38700,
          40700,
          42700,
          44700,
          46700,
          48700,
          50700,
          52700,
          54700,
          56700,
          58700,
          60700,
          62700,
          64700,
          66700,
          68700
         ],
         "xaxis": "x",
         "y": [
          1047.4147579686858,
          1520.0212741856797,
          1992.6277904026902,
          2465.2343066196677,
          2937.840822836612,
          3410.447339053606,
          3883.0538552706003,
          4355.660371487561,
          4828.266887704555,
          5300.873403921516,
          5773.479920138509,
          6246.086436355504,
          6718.6929525725145,
          7191.299468789458,
          7663.9059850064195,
          8136.512501223414,
          8609.119017440407,
          9081.725533657402,
          9554.332049874363,
          10026.938566091323,
          10499.545082308317,
          10972.151598525312,
          11444.75811474229,
          11917.364630959266,
          12389.971147176246
         ],
         "yaxis": "y"
        }
       ],
       "layout": {
        "legend": {
         "title": {
          "text": "Loan Term"
         },
         "tracegroupgap": 0
        },
        "template": {
         "data": {
          "bar": [
           {
            "error_x": {
             "color": "#2a3f5f"
            },
            "error_y": {
             "color": "#2a3f5f"
            },
            "marker": {
             "line": {
              "color": "#E5ECF6",
              "width": 0.5
             }
            },
            "type": "bar"
           }
          ],
          "barpolar": [
           {
            "marker": {
             "line": {
              "color": "#E5ECF6",
              "width": 0.5
             }
            },
            "type": "barpolar"
           }
          ],
          "carpet": [
           {
            "aaxis": {
             "endlinecolor": "#2a3f5f",
             "gridcolor": "white",
             "linecolor": "white",
             "minorgridcolor": "white",
             "startlinecolor": "#2a3f5f"
            },
            "baxis": {
             "endlinecolor": "#2a3f5f",
             "gridcolor": "white",
             "linecolor": "white",
             "minorgridcolor": "white",
             "startlinecolor": "#2a3f5f"
            },
            "type": "carpet"
           }
          ],
          "choropleth": [
           {
            "colorbar": {
             "outlinewidth": 0,
             "ticks": ""
            },
            "type": "choropleth"
           }
          ],
          "contour": [
           {
            "colorbar": {
             "outlinewidth": 0,
             "ticks": ""
            },
            "colorscale": [
             [
              0,
              "#0d0887"
             ],
             [
              0.1111111111111111,
              "#46039f"
             ],
             [
              0.2222222222222222,
              "#7201a8"
             ],
             [
              0.3333333333333333,
              "#9c179e"
             ],
             [
              0.4444444444444444,
              "#bd3786"
             ],
             [
              0.5555555555555556,
              "#d8576b"
             ],
             [
              0.6666666666666666,
              "#ed7953"
             ],
             [
              0.7777777777777778,
              "#fb9f3a"
             ],
             [
              0.8888888888888888,
              "#fdca26"
             ],
             [
              1,
              "#f0f921"
             ]
            ],
            "type": "contour"
           }
          ],
          "contourcarpet": [
           {
            "colorbar": {
             "outlinewidth": 0,
             "ticks": ""
            },
            "type": "contourcarpet"
           }
          ],
          "heatmap": [
           {
            "colorbar": {
             "outlinewidth": 0,
             "ticks": ""
            },
            "colorscale": [
             [
              0,
              "#0d0887"
             ],
             [
              0.1111111111111111,
              "#46039f"
             ],
             [
              0.2222222222222222,
              "#7201a8"
             ],
             [
              0.3333333333333333,
              "#9c179e"
             ],
             [
              0.4444444444444444,
              "#bd3786"
             ],
             [
              0.5555555555555556,
              "#d8576b"
             ],
             [
              0.6666666666666666,
              "#ed7953"
             ],
             [
              0.7777777777777778,
              "#fb9f3a"
             ],
             [
              0.8888888888888888,
              "#fdca26"
             ],
             [
              1,
              "#f0f921"
             ]
            ],
            "type": "heatmap"
           }
          ],
          "heatmapgl": [
           {
            "colorbar": {
             "outlinewidth": 0,
             "ticks": ""
            },
            "colorscale": [
             [
              0,
              "#0d0887"
             ],
             [
              0.1111111111111111,
              "#46039f"
             ],
             [
              0.2222222222222222,
              "#7201a8"
             ],
             [
              0.3333333333333333,
              "#9c179e"
             ],
             [
              0.4444444444444444,
              "#bd3786"
             ],
             [
              0.5555555555555556,
              "#d8576b"
             ],
             [
              0.6666666666666666,
              "#ed7953"
             ],
             [
              0.7777777777777778,
              "#fb9f3a"
             ],
             [
              0.8888888888888888,
              "#fdca26"
             ],
             [
              1,
              "#f0f921"
             ]
            ],
            "type": "heatmapgl"
           }
          ],
          "histogram": [
           {
            "marker": {
             "colorbar": {
              "outlinewidth": 0,
              "ticks": ""
             }
            },
            "type": "histogram"
           }
          ],
          "histogram2d": [
           {
            "colorbar": {
             "outlinewidth": 0,
             "ticks": ""
            },
            "colorscale": [
             [
              0,
              "#0d0887"
             ],
             [
              0.1111111111111111,
              "#46039f"
             ],
             [
              0.2222222222222222,
              "#7201a8"
             ],
             [
              0.3333333333333333,
              "#9c179e"
             ],
             [
              0.4444444444444444,
              "#bd3786"
             ],
             [
              0.5555555555555556,
              "#d8576b"
             ],
             [
              0.6666666666666666,
              "#ed7953"
             ],
             [
              0.7777777777777778,
              "#fb9f3a"
             ],
             [
              0.8888888888888888,
              "#fdca26"
             ],
             [
              1,
              "#f0f921"
             ]
            ],
            "type": "histogram2d"
           }
          ],
          "histogram2dcontour": [
           {
            "colorbar": {
             "outlinewidth": 0,
             "ticks": ""
            },
            "colorscale": [
             [
              0,
              "#0d0887"
             ],
             [
              0.1111111111111111,
              "#46039f"
             ],
             [
              0.2222222222222222,
              "#7201a8"
             ],
             [
              0.3333333333333333,
              "#9c179e"
             ],
             [
              0.4444444444444444,
              "#bd3786"
             ],
             [
              0.5555555555555556,
              "#d8576b"
             ],
             [
              0.6666666666666666,
              "#ed7953"
             ],
             [
              0.7777777777777778,
              "#fb9f3a"
             ],
             [
              0.8888888888888888,
              "#fdca26"
             ],
             [
              1,
              "#f0f921"
             ]
            ],
            "type": "histogram2dcontour"
           }
          ],
          "mesh3d": [
           {
            "colorbar": {
             "outlinewidth": 0,
             "ticks": ""
            },
            "type": "mesh3d"
           }
          ],
          "parcoords": [
           {
            "line": {
             "colorbar": {
              "outlinewidth": 0,
              "ticks": ""
             }
            },
            "type": "parcoords"
           }
          ],
          "pie": [
           {
            "automargin": true,
            "type": "pie"
           }
          ],
          "scatter": [
           {
            "marker": {
             "colorbar": {
              "outlinewidth": 0,
              "ticks": ""
             }
            },
            "type": "scatter"
           }
          ],
          "scatter3d": [
           {
            "line": {
             "colorbar": {
              "outlinewidth": 0,
              "ticks": ""
             }
            },
            "marker": {
             "colorbar": {
              "outlinewidth": 0,
              "ticks": ""
             }
            },
            "type": "scatter3d"
           }
          ],
          "scattercarpet": [
           {
            "marker": {
             "colorbar": {
              "outlinewidth": 0,
              "ticks": ""
             }
            },
            "type": "scattercarpet"
           }
          ],
          "scattergeo": [
           {
            "marker": {
             "colorbar": {
              "outlinewidth": 0,
              "ticks": ""
             }
            },
            "type": "scattergeo"
           }
          ],
          "scattergl": [
           {
            "marker": {
             "colorbar": {
              "outlinewidth": 0,
              "ticks": ""
             }
            },
            "type": "scattergl"
           }
          ],
          "scattermapbox": [
           {
            "marker": {
             "colorbar": {
              "outlinewidth": 0,
              "ticks": ""
             }
            },
            "type": "scattermapbox"
           }
          ],
          "scatterpolar": [
           {
            "marker": {
             "colorbar": {
              "outlinewidth": 0,
              "ticks": ""
             }
            },
            "type": "scatterpolar"
           }
          ],
          "scatterpolargl": [
           {
            "marker": {
             "colorbar": {
              "outlinewidth": 0,
              "ticks": ""
             }
            },
            "type": "scatterpolargl"
           }
          ],
          "scatterternary": [
           {
            "marker": {
             "colorbar": {
              "outlinewidth": 0,
              "ticks": ""
             }
            },
            "type": "scatterternary"
           }
          ],
          "surface": [
           {
            "colorbar": {
             "outlinewidth": 0,
             "ticks": ""
            },
            "colorscale": [
             [
              0,
              "#0d0887"
             ],
             [
              0.1111111111111111,
              "#46039f"
             ],
             [
              0.2222222222222222,
              "#7201a8"
             ],
             [
              0.3333333333333333,
              "#9c179e"
             ],
             [
              0.4444444444444444,
              "#bd3786"
             ],
             [
              0.5555555555555556,
              "#d8576b"
             ],
             [
              0.6666666666666666,
              "#ed7953"
             ],
             [
              0.7777777777777778,
              "#fb9f3a"
             ],
             [
              0.8888888888888888,
              "#fdca26"
             ],
             [
              1,
              "#f0f921"
             ]
            ],
            "type": "surface"
           }
          ],
          "table": [
           {
            "cells": {
             "fill": {
              "color": "#EBF0F8"
             },
             "line": {
              "color": "white"
             }
            },
            "header": {
             "fill": {
              "color": "#C8D4E3"
             },
             "line": {
              "color": "white"
             }
            },
            "type": "table"
           }
          ]
         },
         "layout": {
          "annotationdefaults": {
           "arrowcolor": "#2a3f5f",
           "arrowhead": 0,
           "arrowwidth": 1
          },
          "coloraxis": {
           "colorbar": {
            "outlinewidth": 0,
            "ticks": ""
           }
          },
          "colorscale": {
           "diverging": [
            [
             0,
             "#8e0152"
            ],
            [
             0.1,
             "#c51b7d"
            ],
            [
             0.2,
             "#de77ae"
            ],
            [
             0.3,
             "#f1b6da"
            ],
            [
             0.4,
             "#fde0ef"
            ],
            [
             0.5,
             "#f7f7f7"
            ],
            [
             0.6,
             "#e6f5d0"
            ],
            [
             0.7,
             "#b8e186"
            ],
            [
             0.8,
             "#7fbc41"
            ],
            [
             0.9,
             "#4d9221"
            ],
            [
             1,
             "#276419"
            ]
           ],
           "sequential": [
            [
             0,
             "#0d0887"
            ],
            [
             0.1111111111111111,
             "#46039f"
            ],
            [
             0.2222222222222222,
             "#7201a8"
            ],
            [
             0.3333333333333333,
             "#9c179e"
            ],
            [
             0.4444444444444444,
             "#bd3786"
            ],
            [
             0.5555555555555556,
             "#d8576b"
            ],
            [
             0.6666666666666666,
             "#ed7953"
            ],
            [
             0.7777777777777778,
             "#fb9f3a"
            ],
            [
             0.8888888888888888,
             "#fdca26"
            ],
            [
             1,
             "#f0f921"
            ]
           ],
           "sequentialminus": [
            [
             0,
             "#0d0887"
            ],
            [
             0.1111111111111111,
             "#46039f"
            ],
            [
             0.2222222222222222,
             "#7201a8"
            ],
            [
             0.3333333333333333,
             "#9c179e"
            ],
            [
             0.4444444444444444,
             "#bd3786"
            ],
            [
             0.5555555555555556,
             "#d8576b"
            ],
            [
             0.6666666666666666,
             "#ed7953"
            ],
            [
             0.7777777777777778,
             "#fb9f3a"
            ],
            [
             0.8888888888888888,
             "#fdca26"
            ],
            [
             1,
             "#f0f921"
            ]
           ]
          },
          "colorway": [
           "#636efa",
           "#EF553B",
           "#00cc96",
           "#ab63fa",
           "#FFA15A",
           "#19d3f3",
           "#FF6692",
           "#B6E880",
           "#FF97FF",
           "#FECB52"
          ],
          "font": {
           "color": "#2a3f5f"
          },
          "geo": {
           "bgcolor": "white",
           "lakecolor": "white",
           "landcolor": "#E5ECF6",
           "showlakes": true,
           "showland": true,
           "subunitcolor": "white"
          },
          "hoverlabel": {
           "align": "left"
          },
          "hovermode": "closest",
          "mapbox": {
           "style": "light"
          },
          "paper_bgcolor": "white",
          "plot_bgcolor": "#E5ECF6",
          "polar": {
           "angularaxis": {
            "gridcolor": "white",
            "linecolor": "white",
            "ticks": ""
           },
           "bgcolor": "#E5ECF6",
           "radialaxis": {
            "gridcolor": "white",
            "linecolor": "white",
            "ticks": ""
           }
          },
          "scene": {
           "xaxis": {
            "backgroundcolor": "#E5ECF6",
            "gridcolor": "white",
            "gridwidth": 2,
            "linecolor": "white",
            "showbackground": true,
            "ticks": "",
            "zerolinecolor": "white"
           },
           "yaxis": {
            "backgroundcolor": "#E5ECF6",
            "gridcolor": "white",
            "gridwidth": 2,
            "linecolor": "white",
            "showbackground": true,
            "ticks": "",
            "zerolinecolor": "white"
           },
           "zaxis": {
            "backgroundcolor": "#E5ECF6",
            "gridcolor": "white",
            "gridwidth": 2,
            "linecolor": "white",
            "showbackground": true,
            "ticks": "",
            "zerolinecolor": "white"
           }
          },
          "shapedefaults": {
           "line": {
            "color": "#2a3f5f"
           }
          },
          "ternary": {
           "aaxis": {
            "gridcolor": "white",
            "linecolor": "white",
            "ticks": ""
           },
           "baxis": {
            "gridcolor": "white",
            "linecolor": "white",
            "ticks": ""
           },
           "bgcolor": "#E5ECF6",
           "caxis": {
            "gridcolor": "white",
            "linecolor": "white",
            "ticks": ""
           }
          },
          "title": {
           "x": 0.05
          },
          "xaxis": {
           "automargin": true,
           "gridcolor": "white",
           "linecolor": "white",
           "ticks": "",
           "title": {
            "standoff": 15
           },
           "zerolinecolor": "white",
           "zerolinewidth": 2
          },
          "yaxis": {
           "automargin": true,
           "gridcolor": "white",
           "linecolor": "white",
           "ticks": "",
           "title": {
            "standoff": 15
           },
           "zerolinecolor": "white",
           "zerolinewidth": 2
          }
         }
        },
        "title": {
         "text": "Payoff Diagram, with 10 year capital: 140000"
        },
        "xaxis": {
         "anchor": "y",
         "domain": [
          0,
          1
         ],
         "title": {
          "text": "Initial Downpayment"
         }
        },
        "yaxis": {
         "anchor": "x",
         "domain": [
          0,
          1
         ],
         "title": {
          "text": "Return on Investment"
         }
        }
       }
      }
     },
     "metadata": {}
    }
   ],
   "source": [
    "fig = px.line(payoff_df_melt,x=\"Downpayment\",y=\"value\",color=\"variable\",labels={\n",
    "                     \"Downpayment\": \"Initial Downpayment\",\n",
    "                     \"value\": \"Return on Investment\",\n",
    "                     \"variable\": \"Loan Term\"\n",
    "                 }, title=\"Payoff Diagram, with 10 year capital: {}\".format(start_cap))\n",
    "fig.show()"
   ]
  },
  {
   "cell_type": "code",
   "execution_count": 347,
   "metadata": {},
   "outputs": [],
   "source": [
    "def car_tradeoff_calc_monthly(car_price,downpayment,years,bank_int,cap_month,simir):\n",
    "    total_cost = ((bank_int*years*(car_price - downpayment)+(car_price - downpayment))) + downpayment + maintenance_monthly\n",
    "    pay_monthly = (total_cost - downpayment)/(years*12)\n",
    "    if cap_month < pay_monthly:\n",
    "        loss = (pay_monthly - cap_month)*years*12\n",
    "        post_invest_monthly = cap_month\n",
    "        post_invest_total = fv(post_invest_monthly, simir, ((10-years)*12))\n",
    "        total_returns = post_invest_total - loss\n",
    "        return (total_returns)\n",
    "    else: \n",
    "        pre_invest_monthly = max(0,(cap_month-pay_monthly))\n",
    "        pre_invest_total = fv(pre_invest_monthly, simir, years*12)\n",
    "        post_invest_monthly = cap_month\n",
    "        post_invest_total = ifv(pre_invest_total,post_invest_monthly,simir,((10-years)*12))\n",
    "        total_returns = pre_invest_total + post_invest_total\n",
    "        return(post_invest_total)\n",
    "\n",
    "month_cap = 1200"
   ]
  },
  {
   "cell_type": "code",
   "execution_count": 348,
   "metadata": {},
   "outputs": [],
   "source": [
    "payoffmonth_df = pd.DataFrame({\"Downpayment\" : downpayment_list\n",
    "                            })"
   ]
  },
  {
   "cell_type": "code",
   "execution_count": 349,
   "metadata": {},
   "outputs": [],
   "source": [
    "for z in range(1,8):\n",
    "    payoffmonth_df[\"{} yr\".format(z)] = [car_tradeoff_calc_monthly(car_price,downpayment_list[i],z,0.0298,month_cap,0.007) for i in range(0,len(downpayment_list))]"
   ]
  },
  {
   "cell_type": "code",
   "execution_count": 350,
   "metadata": {},
   "outputs": [],
   "source": [
    "payoffmonth_df_melt = pd.melt(payoffmonth_df, id_vars=\"Downpayment\")"
   ]
  },
  {
   "cell_type": "code",
   "execution_count": 353,
   "metadata": {},
   "outputs": [
    {
     "output_type": "display_data",
     "data": {
      "application/vnd.plotly.v1+json": {
       "config": {
        "plotlyServerURL": "https://plot.ly"
       },
       "data": [
        {
         "hovertemplate": "Loan Term=1 yr<br>Initial Downpayment=%{x}<br>Return on Investment=%{y}<extra></extra>",
         "legendgroup": "1 yr",
         "line": {
          "color": "#636efa",
          "dash": "solid"
         },
         "mode": "lines",
         "name": "1 yr",
         "orientation": "v",
         "showlegend": true,
         "type": "scatter",
         "x": [
          20700,
          22700,
          24700,
          26700,
          28700,
          30700,
          32700,
          34700,
          36700,
          38700,
          40700,
          42700,
          44700,
          46700,
          48700,
          50700,
          52700,
          54700,
          56700,
          58700,
          60700,
          62700,
          64700,
          66700,
          68700
         ],
         "xaxis": "x",
         "y": [
          97370.10808448965,
          99429.70808448966,
          101489.30808448965,
          103548.90808448964,
          105608.50808448964,
          107668.10808448965,
          109727.70808448966,
          111787.30808448965,
          113846.90808448964,
          115906.50808448964,
          117966.10808448965,
          120025.70808448964,
          122085.30808448965,
          124144.90808448964,
          126204.50808448964,
          128264.10808448965,
          130323.70808448964,
          132383.30808448966,
          134442.90808448964,
          136502.50808448964,
          138562.10808448965,
          140621.70808448963,
          142681.30808448966,
          144740.90808448964,
          146800.50808448964
         ],
         "yaxis": "y"
        },
        {
         "hovertemplate": "Loan Term=2 yr<br>Initial Downpayment=%{x}<br>Return on Investment=%{y}<extra></extra>",
         "legendgroup": "2 yr",
         "line": {
          "color": "#EF553B",
          "dash": "solid"
         },
         "mode": "lines",
         "name": "2 yr",
         "orientation": "v",
         "showlegend": true,
         "type": "scatter",
         "x": [
          20700,
          22700,
          24700,
          26700,
          28700,
          30700,
          32700,
          34700,
          36700,
          38700,
          40700,
          42700,
          44700,
          46700,
          48700,
          50700,
          52700,
          54700,
          56700,
          58700,
          60700,
          62700,
          64700,
          66700,
          68700
         ],
         "xaxis": "x",
         "y": [
          81090.61379751071,
          83209.8137975107,
          85329.0137975107,
          87448.21379751069,
          89567.4137975107,
          91686.61379751071,
          93805.8137975107,
          95925.0137975107,
          98044.2137975107,
          100163.4137975107,
          102282.61379751071,
          104401.81379751071,
          106521.0137975107,
          108640.2137975107,
          110759.4137975107,
          112878.61379751071,
          114997.81379751071,
          117117.0137975107,
          119236.2137975107,
          121355.4137975107,
          123474.61379751071,
          125593.81379751071,
          127713.0137975107,
          129832.2137975107,
          131951.4137975107
         ],
         "yaxis": "y"
        },
        {
         "hovertemplate": "Loan Term=3 yr<br>Initial Downpayment=%{x}<br>Return on Investment=%{y}<extra></extra>",
         "legendgroup": "3 yr",
         "line": {
          "color": "#00cc96",
          "dash": "solid"
         },
         "mode": "lines",
         "name": "3 yr",
         "orientation": "v",
         "showlegend": true,
         "type": "scatter",
         "x": [
          20700,
          22700,
          24700,
          26700,
          28700,
          30700,
          32700,
          34700,
          36700,
          38700,
          40700,
          42700,
          44700,
          46700,
          48700,
          50700,
          52700,
          54700,
          56700,
          58700,
          60700,
          62700,
          64700,
          66700,
          68700
         ],
         "xaxis": "x",
         "y": [
          67159.09356682404,
          69337.89356682406,
          71516.69356682408,
          73695.49356682407,
          75874.29356682405,
          78053.09356682404,
          80231.89356682406,
          82410.69356682408,
          84589.49356682407,
          86768.29356682405,
          88947.09356682404,
          91125.89356682406,
          93304.69356682408,
          95483.49356682407,
          97662.29356682405,
          99841.09356682406,
          102019.89356682406,
          104198.69356682406,
          106377.49356682407,
          108556.29356682405,
          110735.09356682406,
          112913.89356682406,
          115092.69356682406,
          117271.49356682407,
          119450.29356682405
         ],
         "yaxis": "y"
        },
        {
         "hovertemplate": "Loan Term=4 yr<br>Initial Downpayment=%{x}<br>Return on Investment=%{y}<extra></extra>",
         "legendgroup": "4 yr",
         "line": {
          "color": "#ab63fa",
          "dash": "solid"
         },
         "mode": "lines",
         "name": "4 yr",
         "orientation": "v",
         "showlegend": true,
         "type": "scatter",
         "x": [
          20700,
          22700,
          24700,
          26700,
          28700,
          30700,
          32700,
          34700,
          36700,
          38700,
          40700,
          42700,
          44700,
          46700,
          48700,
          50700,
          52700,
          54700,
          56700,
          58700,
          60700,
          62700,
          64700,
          66700,
          68700
         ],
         "xaxis": "x",
         "y": [
          55387.005905441925,
          57625.40590544192,
          59863.80590544191,
          62102.20590544191,
          64340.6059054419,
          66579.00590544191,
          68817.4059054419,
          71055.8059054419,
          73294.20590544191,
          75532.6059054419,
          77771.00590544193,
          80009.40590544192,
          82247.80590544191,
          84486.20590544191,
          86724.6059054419,
          88963.00590544193,
          91201.40590544192,
          93439.80590544191,
          95678.20590544191,
          97916.60590544192,
          100155.00590544191,
          102393.4059054419,
          104631.80590544191,
          106870.20590544191,
          109108.60590544192
         ],
         "yaxis": "y"
        },
        {
         "hovertemplate": "Loan Term=5 yr<br>Initial Downpayment=%{x}<br>Return on Investment=%{y}<extra></extra>",
         "legendgroup": "5 yr",
         "line": {
          "color": "#FFA15A",
          "dash": "solid"
         },
         "mode": "lines",
         "name": "5 yr",
         "orientation": "v",
         "showlegend": true,
         "type": "scatter",
         "x": [
          20700,
          22700,
          24700,
          26700,
          28700,
          30700,
          32700,
          34700,
          36700,
          38700,
          40700,
          42700,
          44700,
          46700,
          48700,
          50700,
          52700,
          54700,
          56700,
          58700,
          60700,
          62700,
          64700,
          66700,
          68700
         ],
         "xaxis": "x",
         "y": [
          45600.94914115418,
          47898.94914115418,
          50196.94914115418,
          52494.94914115418,
          54792.94914115419,
          57090.94914115418,
          59388.94914115418,
          61686.94914115418,
          63984.94914115418,
          66282.94914115418,
          68580.94914115418,
          70878.94914115418,
          73176.94914115418,
          75474.94914115418,
          77772.94914115418,
          80070.94914115418,
          82368.94914115418,
          84666.94914115418,
          86964.9491411542,
          89408.51629399191,
          93730.19032436717,
          98051.86435474244,
          102373.5383851177,
          106695.212415493,
          111016.88644586825
         ],
         "yaxis": "y"
        },
        {
         "hovertemplate": "Loan Term=6 yr<br>Initial Downpayment=%{x}<br>Return on Investment=%{y}<extra></extra>",
         "legendgroup": "6 yr",
         "line": {
          "color": "#19d3f3",
          "dash": "solid"
         },
         "mode": "lines",
         "name": "6 yr",
         "orientation": "v",
         "showlegend": true,
         "type": "scatter",
         "x": [
          20700,
          22700,
          24700,
          26700,
          28700,
          30700,
          32700,
          34700,
          36700,
          38700,
          40700,
          42700,
          44700,
          46700,
          48700,
          50700,
          52700,
          54700,
          56700,
          58700,
          60700,
          62700,
          64700,
          66700,
          68700
         ],
         "xaxis": "x",
         "y": [
          37641.44569475238,
          39999.045694752385,
          42356.64569475239,
          44714.2456947524,
          47071.84569475237,
          49429.44569475237,
          51787.04569475238,
          54144.645694752384,
          56502.24569475239,
          58859.84569475237,
          61217.44569475237,
          63575.04569475238,
          65932.64569475238,
          68381.50441684027,
          72647.15304396304,
          76912.80167108588,
          81178.4502982087,
          85444.09892533153,
          89709.74755245436,
          93975.39617957718,
          98241.04480669997,
          102506.6934338228,
          106772.34206094564,
          111037.99068806844,
          115303.63931519126
         ],
         "yaxis": "y"
        },
        {
         "hovertemplate": "Loan Term=7 yr<br>Initial Downpayment=%{x}<br>Return on Investment=%{y}<extra></extra>",
         "legendgroup": "7 yr",
         "line": {
          "color": "#FF6692",
          "dash": "solid"
         },
         "mode": "lines",
         "name": "7 yr",
         "orientation": "v",
         "showlegend": true,
         "type": "scatter",
         "x": [
          20700,
          22700,
          24700,
          26700,
          28700,
          30700,
          32700,
          34700,
          36700,
          38700,
          40700,
          42700,
          44700,
          46700,
          48700,
          50700,
          52700,
          54700,
          56700,
          58700,
          60700,
          62700,
          64700,
          66700,
          68700
         ],
         "xaxis": "x",
         "y": [
          31361.823980281795,
          33779.0239802818,
          36196.22398028182,
          38613.42398028181,
          41030.62398028178,
          43447.823980281806,
          45865.02398028181,
          48282.2239802818,
          52006.497791977235,
          56216.58336678069,
          60426.668941584176,
          64636.754516387664,
          68846.84009119119,
          73056.92566599461,
          77267.01124079806,
          81477.09681560156,
          85687.18239040504,
          89897.26796520856,
          94107.353540012,
          98317.43911481544,
          102527.52468961893,
          106737.61026442243,
          110947.6958392259,
          115157.78141402938,
          119367.86698883284
         ],
         "yaxis": "y"
        }
       ],
       "layout": {
        "legend": {
         "title": {
          "text": "Loan Term"
         },
         "tracegroupgap": 0
        },
        "template": {
         "data": {
          "bar": [
           {
            "error_x": {
             "color": "#2a3f5f"
            },
            "error_y": {
             "color": "#2a3f5f"
            },
            "marker": {
             "line": {
              "color": "#E5ECF6",
              "width": 0.5
             }
            },
            "type": "bar"
           }
          ],
          "barpolar": [
           {
            "marker": {
             "line": {
              "color": "#E5ECF6",
              "width": 0.5
             }
            },
            "type": "barpolar"
           }
          ],
          "carpet": [
           {
            "aaxis": {
             "endlinecolor": "#2a3f5f",
             "gridcolor": "white",
             "linecolor": "white",
             "minorgridcolor": "white",
             "startlinecolor": "#2a3f5f"
            },
            "baxis": {
             "endlinecolor": "#2a3f5f",
             "gridcolor": "white",
             "linecolor": "white",
             "minorgridcolor": "white",
             "startlinecolor": "#2a3f5f"
            },
            "type": "carpet"
           }
          ],
          "choropleth": [
           {
            "colorbar": {
             "outlinewidth": 0,
             "ticks": ""
            },
            "type": "choropleth"
           }
          ],
          "contour": [
           {
            "colorbar": {
             "outlinewidth": 0,
             "ticks": ""
            },
            "colorscale": [
             [
              0,
              "#0d0887"
             ],
             [
              0.1111111111111111,
              "#46039f"
             ],
             [
              0.2222222222222222,
              "#7201a8"
             ],
             [
              0.3333333333333333,
              "#9c179e"
             ],
             [
              0.4444444444444444,
              "#bd3786"
             ],
             [
              0.5555555555555556,
              "#d8576b"
             ],
             [
              0.6666666666666666,
              "#ed7953"
             ],
             [
              0.7777777777777778,
              "#fb9f3a"
             ],
             [
              0.8888888888888888,
              "#fdca26"
             ],
             [
              1,
              "#f0f921"
             ]
            ],
            "type": "contour"
           }
          ],
          "contourcarpet": [
           {
            "colorbar": {
             "outlinewidth": 0,
             "ticks": ""
            },
            "type": "contourcarpet"
           }
          ],
          "heatmap": [
           {
            "colorbar": {
             "outlinewidth": 0,
             "ticks": ""
            },
            "colorscale": [
             [
              0,
              "#0d0887"
             ],
             [
              0.1111111111111111,
              "#46039f"
             ],
             [
              0.2222222222222222,
              "#7201a8"
             ],
             [
              0.3333333333333333,
              "#9c179e"
             ],
             [
              0.4444444444444444,
              "#bd3786"
             ],
             [
              0.5555555555555556,
              "#d8576b"
             ],
             [
              0.6666666666666666,
              "#ed7953"
             ],
             [
              0.7777777777777778,
              "#fb9f3a"
             ],
             [
              0.8888888888888888,
              "#fdca26"
             ],
             [
              1,
              "#f0f921"
             ]
            ],
            "type": "heatmap"
           }
          ],
          "heatmapgl": [
           {
            "colorbar": {
             "outlinewidth": 0,
             "ticks": ""
            },
            "colorscale": [
             [
              0,
              "#0d0887"
             ],
             [
              0.1111111111111111,
              "#46039f"
             ],
             [
              0.2222222222222222,
              "#7201a8"
             ],
             [
              0.3333333333333333,
              "#9c179e"
             ],
             [
              0.4444444444444444,
              "#bd3786"
             ],
             [
              0.5555555555555556,
              "#d8576b"
             ],
             [
              0.6666666666666666,
              "#ed7953"
             ],
             [
              0.7777777777777778,
              "#fb9f3a"
             ],
             [
              0.8888888888888888,
              "#fdca26"
             ],
             [
              1,
              "#f0f921"
             ]
            ],
            "type": "heatmapgl"
           }
          ],
          "histogram": [
           {
            "marker": {
             "colorbar": {
              "outlinewidth": 0,
              "ticks": ""
             }
            },
            "type": "histogram"
           }
          ],
          "histogram2d": [
           {
            "colorbar": {
             "outlinewidth": 0,
             "ticks": ""
            },
            "colorscale": [
             [
              0,
              "#0d0887"
             ],
             [
              0.1111111111111111,
              "#46039f"
             ],
             [
              0.2222222222222222,
              "#7201a8"
             ],
             [
              0.3333333333333333,
              "#9c179e"
             ],
             [
              0.4444444444444444,
              "#bd3786"
             ],
             [
              0.5555555555555556,
              "#d8576b"
             ],
             [
              0.6666666666666666,
              "#ed7953"
             ],
             [
              0.7777777777777778,
              "#fb9f3a"
             ],
             [
              0.8888888888888888,
              "#fdca26"
             ],
             [
              1,
              "#f0f921"
             ]
            ],
            "type": "histogram2d"
           }
          ],
          "histogram2dcontour": [
           {
            "colorbar": {
             "outlinewidth": 0,
             "ticks": ""
            },
            "colorscale": [
             [
              0,
              "#0d0887"
             ],
             [
              0.1111111111111111,
              "#46039f"
             ],
             [
              0.2222222222222222,
              "#7201a8"
             ],
             [
              0.3333333333333333,
              "#9c179e"
             ],
             [
              0.4444444444444444,
              "#bd3786"
             ],
             [
              0.5555555555555556,
              "#d8576b"
             ],
             [
              0.6666666666666666,
              "#ed7953"
             ],
             [
              0.7777777777777778,
              "#fb9f3a"
             ],
             [
              0.8888888888888888,
              "#fdca26"
             ],
             [
              1,
              "#f0f921"
             ]
            ],
            "type": "histogram2dcontour"
           }
          ],
          "mesh3d": [
           {
            "colorbar": {
             "outlinewidth": 0,
             "ticks": ""
            },
            "type": "mesh3d"
           }
          ],
          "parcoords": [
           {
            "line": {
             "colorbar": {
              "outlinewidth": 0,
              "ticks": ""
             }
            },
            "type": "parcoords"
           }
          ],
          "pie": [
           {
            "automargin": true,
            "type": "pie"
           }
          ],
          "scatter": [
           {
            "marker": {
             "colorbar": {
              "outlinewidth": 0,
              "ticks": ""
             }
            },
            "type": "scatter"
           }
          ],
          "scatter3d": [
           {
            "line": {
             "colorbar": {
              "outlinewidth": 0,
              "ticks": ""
             }
            },
            "marker": {
             "colorbar": {
              "outlinewidth": 0,
              "ticks": ""
             }
            },
            "type": "scatter3d"
           }
          ],
          "scattercarpet": [
           {
            "marker": {
             "colorbar": {
              "outlinewidth": 0,
              "ticks": ""
             }
            },
            "type": "scattercarpet"
           }
          ],
          "scattergeo": [
           {
            "marker": {
             "colorbar": {
              "outlinewidth": 0,
              "ticks": ""
             }
            },
            "type": "scattergeo"
           }
          ],
          "scattergl": [
           {
            "marker": {
             "colorbar": {
              "outlinewidth": 0,
              "ticks": ""
             }
            },
            "type": "scattergl"
           }
          ],
          "scattermapbox": [
           {
            "marker": {
             "colorbar": {
              "outlinewidth": 0,
              "ticks": ""
             }
            },
            "type": "scattermapbox"
           }
          ],
          "scatterpolar": [
           {
            "marker": {
             "colorbar": {
              "outlinewidth": 0,
              "ticks": ""
             }
            },
            "type": "scatterpolar"
           }
          ],
          "scatterpolargl": [
           {
            "marker": {
             "colorbar": {
              "outlinewidth": 0,
              "ticks": ""
             }
            },
            "type": "scatterpolargl"
           }
          ],
          "scatterternary": [
           {
            "marker": {
             "colorbar": {
              "outlinewidth": 0,
              "ticks": ""
             }
            },
            "type": "scatterternary"
           }
          ],
          "surface": [
           {
            "colorbar": {
             "outlinewidth": 0,
             "ticks": ""
            },
            "colorscale": [
             [
              0,
              "#0d0887"
             ],
             [
              0.1111111111111111,
              "#46039f"
             ],
             [
              0.2222222222222222,
              "#7201a8"
             ],
             [
              0.3333333333333333,
              "#9c179e"
             ],
             [
              0.4444444444444444,
              "#bd3786"
             ],
             [
              0.5555555555555556,
              "#d8576b"
             ],
             [
              0.6666666666666666,
              "#ed7953"
             ],
             [
              0.7777777777777778,
              "#fb9f3a"
             ],
             [
              0.8888888888888888,
              "#fdca26"
             ],
             [
              1,
              "#f0f921"
             ]
            ],
            "type": "surface"
           }
          ],
          "table": [
           {
            "cells": {
             "fill": {
              "color": "#EBF0F8"
             },
             "line": {
              "color": "white"
             }
            },
            "header": {
             "fill": {
              "color": "#C8D4E3"
             },
             "line": {
              "color": "white"
             }
            },
            "type": "table"
           }
          ]
         },
         "layout": {
          "annotationdefaults": {
           "arrowcolor": "#2a3f5f",
           "arrowhead": 0,
           "arrowwidth": 1
          },
          "coloraxis": {
           "colorbar": {
            "outlinewidth": 0,
            "ticks": ""
           }
          },
          "colorscale": {
           "diverging": [
            [
             0,
             "#8e0152"
            ],
            [
             0.1,
             "#c51b7d"
            ],
            [
             0.2,
             "#de77ae"
            ],
            [
             0.3,
             "#f1b6da"
            ],
            [
             0.4,
             "#fde0ef"
            ],
            [
             0.5,
             "#f7f7f7"
            ],
            [
             0.6,
             "#e6f5d0"
            ],
            [
             0.7,
             "#b8e186"
            ],
            [
             0.8,
             "#7fbc41"
            ],
            [
             0.9,
             "#4d9221"
            ],
            [
             1,
             "#276419"
            ]
           ],
           "sequential": [
            [
             0,
             "#0d0887"
            ],
            [
             0.1111111111111111,
             "#46039f"
            ],
            [
             0.2222222222222222,
             "#7201a8"
            ],
            [
             0.3333333333333333,
             "#9c179e"
            ],
            [
             0.4444444444444444,
             "#bd3786"
            ],
            [
             0.5555555555555556,
             "#d8576b"
            ],
            [
             0.6666666666666666,
             "#ed7953"
            ],
            [
             0.7777777777777778,
             "#fb9f3a"
            ],
            [
             0.8888888888888888,
             "#fdca26"
            ],
            [
             1,
             "#f0f921"
            ]
           ],
           "sequentialminus": [
            [
             0,
             "#0d0887"
            ],
            [
             0.1111111111111111,
             "#46039f"
            ],
            [
             0.2222222222222222,
             "#7201a8"
            ],
            [
             0.3333333333333333,
             "#9c179e"
            ],
            [
             0.4444444444444444,
             "#bd3786"
            ],
            [
             0.5555555555555556,
             "#d8576b"
            ],
            [
             0.6666666666666666,
             "#ed7953"
            ],
            [
             0.7777777777777778,
             "#fb9f3a"
            ],
            [
             0.8888888888888888,
             "#fdca26"
            ],
            [
             1,
             "#f0f921"
            ]
           ]
          },
          "colorway": [
           "#636efa",
           "#EF553B",
           "#00cc96",
           "#ab63fa",
           "#FFA15A",
           "#19d3f3",
           "#FF6692",
           "#B6E880",
           "#FF97FF",
           "#FECB52"
          ],
          "font": {
           "color": "#2a3f5f"
          },
          "geo": {
           "bgcolor": "white",
           "lakecolor": "white",
           "landcolor": "#E5ECF6",
           "showlakes": true,
           "showland": true,
           "subunitcolor": "white"
          },
          "hoverlabel": {
           "align": "left"
          },
          "hovermode": "closest",
          "mapbox": {
           "style": "light"
          },
          "paper_bgcolor": "white",
          "plot_bgcolor": "#E5ECF6",
          "polar": {
           "angularaxis": {
            "gridcolor": "white",
            "linecolor": "white",
            "ticks": ""
           },
           "bgcolor": "#E5ECF6",
           "radialaxis": {
            "gridcolor": "white",
            "linecolor": "white",
            "ticks": ""
           }
          },
          "scene": {
           "xaxis": {
            "backgroundcolor": "#E5ECF6",
            "gridcolor": "white",
            "gridwidth": 2,
            "linecolor": "white",
            "showbackground": true,
            "ticks": "",
            "zerolinecolor": "white"
           },
           "yaxis": {
            "backgroundcolor": "#E5ECF6",
            "gridcolor": "white",
            "gridwidth": 2,
            "linecolor": "white",
            "showbackground": true,
            "ticks": "",
            "zerolinecolor": "white"
           },
           "zaxis": {
            "backgroundcolor": "#E5ECF6",
            "gridcolor": "white",
            "gridwidth": 2,
            "linecolor": "white",
            "showbackground": true,
            "ticks": "",
            "zerolinecolor": "white"
           }
          },
          "shapedefaults": {
           "line": {
            "color": "#2a3f5f"
           }
          },
          "ternary": {
           "aaxis": {
            "gridcolor": "white",
            "linecolor": "white",
            "ticks": ""
           },
           "baxis": {
            "gridcolor": "white",
            "linecolor": "white",
            "ticks": ""
           },
           "bgcolor": "#E5ECF6",
           "caxis": {
            "gridcolor": "white",
            "linecolor": "white",
            "ticks": ""
           }
          },
          "title": {
           "x": 0.05
          },
          "xaxis": {
           "automargin": true,
           "gridcolor": "white",
           "linecolor": "white",
           "ticks": "",
           "title": {
            "standoff": 15
           },
           "zerolinecolor": "white",
           "zerolinewidth": 2
          },
          "yaxis": {
           "automargin": true,
           "gridcolor": "white",
           "linecolor": "white",
           "ticks": "",
           "title": {
            "standoff": 15
           },
           "zerolinecolor": "white",
           "zerolinewidth": 2
          }
         }
        },
        "title": {
         "text": "Payoff Diagram, with monthly budget: 1200"
        },
        "xaxis": {
         "anchor": "y",
         "domain": [
          0,
          1
         ],
         "title": {
          "text": "Initial Downpayment"
         }
        },
        "yaxis": {
         "anchor": "x",
         "domain": [
          0,
          1
         ],
         "title": {
          "text": "Return on Investment"
         }
        }
       }
      }
     },
     "metadata": {}
    }
   ],
   "source": [
    "fig = px.line(payoffmonth_df_melt,x=\"Downpayment\",y=\"value\",color=\"variable\",labels={\n",
    "                     \"Downpayment\": \"Initial Downpayment\",\n",
    "                     \"value\": \"Return on Investment\",\n",
    "                     \"variable\": \"Loan Term\"\n",
    "                 }, title=\"Payoff Diagram, with monthly budget: {}\".format(month_cap))\n",
    "fig.show()"
   ]
  },
  {
   "cell_type": "code",
   "execution_count": null,
   "metadata": {},
   "outputs": [],
   "source": []
  }
 ],
 "metadata": {
  "kernelspec": {
   "name": "python3",
   "display_name": "Python 3.8.6 32-bit",
   "metadata": {
    "interpreter": {
     "hash": "a080e381fb8d998a55638006a69e5958108d914a9dc610571a96145ee1400b24"
    }
   }
  },
  "language_info": {
   "codemirror_mode": {
    "name": "ipython",
    "version": 3
   },
   "file_extension": ".py",
   "mimetype": "text/x-python",
   "name": "python",
   "nbconvert_exporter": "python",
   "pygments_lexer": "ipython3",
   "version": "3.8.6-final"
  }
 },
 "nbformat": 4,
 "nbformat_minor": 4
}